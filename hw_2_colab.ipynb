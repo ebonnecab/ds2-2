{
  "nbformat": 4,
  "nbformat_minor": 0,
  "metadata": {
    "colab": {
      "name": "hw_2.ipynb",
      "provenance": [],
      "collapsed_sections": []
    },
    "kernelspec": {
      "name": "python3",
      "display_name": "Python 3"
    },
    "accelerator": "GPU"
  },
  "cells": [
    {
      "cell_type": "markdown",
      "metadata": {
        "id": "-_Ex0OeGjoR-",
        "colab_type": "text"
      },
      "source": [
        "# Multilayer Perceptron Model to Classify Mnist Dataset"
      ]
    },
    {
      "cell_type": "code",
      "metadata": {
        "id": "O8yeK8MnLEHZ",
        "colab_type": "code",
        "colab": {}
      },
      "source": [
        "# import warnings\n",
        "import warnings\n",
        "warnings.filterwarnings('ignore')"
      ],
      "execution_count": 0,
      "outputs": []
    },
    {
      "cell_type": "code",
      "metadata": {
        "id": "cg97boD2ixuN",
        "colab_type": "code",
        "outputId": "08f24369-8882-469e-8f90-3aa7d752b49d",
        "colab": {
          "base_uri": "https://localhost:8080/",
          "height": 97
        }
      },
      "source": [
        "import keras\n",
        "from keras.datasets import mnist\n",
        "from keras.models import Sequential\n",
        "from keras.layers import Dense, Input\n",
        "from keras.optimizers import SGD\n",
        "from keras.initializers import RandomNormal\n",
        "from keras.models import load_model\n",
        "from keras.utils import np_utils"
      ],
      "execution_count": 2,
      "outputs": [
        {
          "output_type": "stream",
          "text": [
            "Using TensorFlow backend.\n"
          ],
          "name": "stderr"
        },
        {
          "output_type": "display_data",
          "data": {
            "text/html": [
              "<p style=\"color: red;\">\n",
              "The default version of TensorFlow in Colab will soon switch to TensorFlow 2.x.<br>\n",
              "We recommend you <a href=\"https://www.tensorflow.org/guide/migrate\" target=\"_blank\">upgrade</a> now \n",
              "or ensure your notebook will continue to use TensorFlow 1.x via the <code>%tensorflow_version 1.x</code> magic:\n",
              "<a href=\"https://colab.research.google.com/notebooks/tensorflow_version.ipynb\" target=\"_blank\">more info</a>.</p>\n"
            ],
            "text/plain": [
              "<IPython.core.display.HTML object>"
            ]
          },
          "metadata": {
            "tags": []
          }
        }
      ]
    },
    {
      "cell_type": "code",
      "metadata": {
        "id": "SFlc_OUrK__n",
        "colab_type": "code",
        "colab": {}
      },
      "source": [
        "import matplotlib.pyplot as plt #This package is for plotting\n",
        "%matplotlib inline  \n",
        "import numpy as np"
      ],
      "execution_count": 0,
      "outputs": []
    },
    {
      "cell_type": "markdown",
      "metadata": {
        "id": "f79IEO8BjuqE",
        "colab_type": "text"
      },
      "source": [
        "## Data Preparation"
      ]
    },
    {
      "cell_type": "code",
      "metadata": {
        "id": "oUWTLFxtjzQd",
        "colab_type": "code",
        "colab": {}
      },
      "source": [
        "(x_train, y_train), (x_test, y_test) = mnist.load_data()"
      ],
      "execution_count": 0,
      "outputs": []
    },
    {
      "cell_type": "code",
      "metadata": {
        "id": "ZiFRSw9Oj2ww",
        "colab_type": "code",
        "outputId": "2a1bdbc1-ac26-49da-a6ab-d543ef298adf",
        "colab": {
          "base_uri": "https://localhost:8080/",
          "height": 136
        }
      },
      "source": [
        "print('Train data dimension: {}'.format(x_train.shape))\n",
        "print('Test data dimension: {}'.format(x_test.shape))\n",
        "print('Test label dimension: {}'.format(y_test.shape))\n",
        "\n",
        "print('Max Training data: {}'.format(np.max(x_train)))\n",
        "print('Min Training data: {}'.format(np.min(x_train)))\n",
        "\n",
        "print('Max Test data: {}'.format(np.max(x_test)))\n",
        "print('Min Test data: {}'.format(np.min(x_test)))"
      ],
      "execution_count": 5,
      "outputs": [
        {
          "output_type": "stream",
          "text": [
            "Train data dimension: (60000, 28, 28)\n",
            "Test data dimension: (10000, 28, 28)\n",
            "Test label dimension: (10000,)\n",
            "Max Training data: 255\n",
            "Min Training data: 0\n",
            "Max Test data: 255\n",
            "Min Test data: 0\n"
          ],
          "name": "stdout"
        }
      ]
    },
    {
      "cell_type": "code",
      "metadata": {
        "id": "Btr9mX-Mj6YH",
        "colab_type": "code",
        "outputId": "24242362-bd15-4904-ed66-f14d66ef935c",
        "colab": {
          "base_uri": "https://localhost:8080/",
          "height": 282
        }
      },
      "source": [
        "rand_num = np.random.randint(60000)\n",
        "# plot using plt.imshow() & plt.show()\n",
        "plt.imshow(x_train[rand_num],cmap='gray')\n",
        "plt.show()\n",
        "# print its label\n",
        "print('label:', y_train[rand_num])"
      ],
      "execution_count": 6,
      "outputs": [
        {
          "output_type": "display_data",
          "data": {
            "image/png": "[encoded data removed]",
            "text/plain": [
              "<Figure size 432x288 with 1 Axes>"
            ]
          },
          "metadata": {
            "tags": []
          }
        },
        {
          "output_type": "stream",
          "text": [
            "label: 4\n"
          ],
          "name": "stdout"
        }
      ]
    },
    {
      "cell_type": "code",
      "metadata": {
        "id": "mfgxY6B1j9VY",
        "colab_type": "code",
        "colab": {}
      },
      "source": [
        "#reshaping data to flatten image\n",
        "x_train = np.reshape(x_train,[-1, 28*28])\n",
        "x_test = np.reshape(x_test,[-1, 28*28])"
      ],
      "execution_count": 0,
      "outputs": []
    },
    {
      "cell_type": "code",
      "metadata": {
        "id": "umajNv36kOnr",
        "colab_type": "code",
        "colab": {}
      },
      "source": [
        "# normalize pixel values\n",
        "x_train = x_train.astype('float32') / np.max(x_train)\n",
        "x_test = x_test.astype('float32') / np.max(x_train)"
      ],
      "execution_count": 0,
      "outputs": []
    },
    {
      "cell_type": "code",
      "metadata": {
        "id": "AQ-LLiv1kSj_",
        "colab_type": "code",
        "colab": {}
      },
      "source": [
        "# one hot encode labels\n",
        "y_train_one_hot = np_utils.to_categorical(y_train, 10)\n",
        "y_test_one_hot = np_utils.to_categorical(y_test, 10)"
      ],
      "execution_count": 0,
      "outputs": []
    },
    {
      "cell_type": "markdown",
      "metadata": {
        "id": "0S895k48mwb8",
        "colab_type": "text"
      },
      "source": [
        "## Define Model"
      ]
    },
    {
      "cell_type": "markdown",
      "metadata": {
        "id": "mUvHC7YYoUch",
        "colab_type": "text"
      },
      "source": [
        "The model is comprised of two hidden layers using the relu activation function\n",
        "and one output layer using the softmax activation function"
      ]
    },
    {
      "cell_type": "code",
      "metadata": {
        "id": "D0fdS3mLkU9c",
        "colab_type": "code",
        "outputId": "f96f143e-eabe-4a9c-c600-83b4cd6a1b80",
        "colab": {
          "base_uri": "https://localhost:8080/",
          "height": 139
        }
      },
      "source": [
        "model = Sequential()\n",
        "model.add(Dense(512, activation='relu', input_shape=(784,),kernel_initializer= RandomNormal(0,0.01)))\n",
        "model.add(Dense(512, activation='relu', kernel_initializer= RandomNormal(0,0.01)))\n",
        "model.add(Dense(10, activation='softmax', kernel_initializer= RandomNormal(0,0.01)))"
      ],
      "execution_count": 10,
      "outputs": [
        {
          "output_type": "stream",
          "text": [
            "WARNING:tensorflow:From /usr/local/lib/python3.6/dist-packages/keras/backend/tensorflow_backend.py:66: The name tf.get_default_graph is deprecated. Please use tf.compat.v1.get_default_graph instead.\n",
            "\n",
            "WARNING:tensorflow:From /usr/local/lib/python3.6/dist-packages/keras/backend/tensorflow_backend.py:541: The name tf.placeholder is deprecated. Please use tf.compat.v1.placeholder instead.\n",
            "\n",
            "WARNING:tensorflow:From /usr/local/lib/python3.6/dist-packages/keras/backend/tensorflow_backend.py:4409: The name tf.random_normal is deprecated. Please use tf.random.normal instead.\n",
            "\n"
          ],
          "name": "stdout"
        }
      ]
    },
    {
      "cell_type": "markdown",
      "metadata": {
        "id": "USN9F-ifr7fp",
        "colab_type": "text"
      },
      "source": [
        "Determine loss function, optimizer, and metrics"
      ]
    },
    {
      "cell_type": "code",
      "metadata": {
        "id": "1-PoaQH4r_Ck",
        "colab_type": "code",
        "outputId": "567fd091-4712-43a5-f345-915239b03a17",
        "colab": {
          "base_uri": "https://localhost:8080/",
          "height": 105
        }
      },
      "source": [
        "sgd = SGD(lr=0.01,)\n",
        "model.compile(optimizer=sgd, loss='categorical_crossentropy', metrics=['accuracy'])"
      ],
      "execution_count": 11,
      "outputs": [
        {
          "output_type": "stream",
          "text": [
            "WARNING:tensorflow:From /usr/local/lib/python3.6/dist-packages/keras/optimizers.py:793: The name tf.train.Optimizer is deprecated. Please use tf.compat.v1.train.Optimizer instead.\n",
            "\n",
            "WARNING:tensorflow:From /usr/local/lib/python3.6/dist-packages/keras/backend/tensorflow_backend.py:3576: The name tf.log is deprecated. Please use tf.math.log instead.\n",
            "\n"
          ],
          "name": "stdout"
        }
      ]
    },
    {
      "cell_type": "markdown",
      "metadata": {
        "id": "bbu9K2cvsq5F",
        "colab_type": "text"
      },
      "source": [
        "Model Summary"
      ]
    },
    {
      "cell_type": "code",
      "metadata": {
        "id": "871Ngq_-sxlD",
        "colab_type": "code",
        "outputId": "d50e4834-2ff3-491a-a99e-bd56145f89ac",
        "colab": {
          "base_uri": "https://localhost:8080/",
          "height": 479
        }
      },
      "source": [
        "model.summary()\n",
        "\n",
        "#saving model to be used later\n",
        "model.save('raw_model.h5')"
      ],
      "execution_count": 12,
      "outputs": [
        {
          "output_type": "stream",
          "text": [
            "Model: \"sequential_1\"\n",
            "_________________________________________________________________\n",
            "Layer (type)                 Output Shape              Param #   \n",
            "=================================================================\n",
            "dense_1 (Dense)              (None, 512)               401920    \n",
            "_________________________________________________________________\n",
            "dense_2 (Dense)              (None, 512)               262656    \n",
            "_________________________________________________________________\n",
            "dense_3 (Dense)              (None, 10)                5130      \n",
            "=================================================================\n",
            "Total params: 669,706\n",
            "Trainable params: 669,706\n",
            "Non-trainable params: 0\n",
            "_________________________________________________________________\n",
            "WARNING:tensorflow:From /usr/local/lib/python3.6/dist-packages/keras/backend/tensorflow_backend.py:190: The name tf.get_default_session is deprecated. Please use tf.compat.v1.get_default_session instead.\n",
            "\n",
            "WARNING:tensorflow:From /usr/local/lib/python3.6/dist-packages/keras/backend/tensorflow_backend.py:197: The name tf.ConfigProto is deprecated. Please use tf.compat.v1.ConfigProto instead.\n",
            "\n",
            "WARNING:tensorflow:From /usr/local/lib/python3.6/dist-packages/keras/backend/tensorflow_backend.py:203: The name tf.Session is deprecated. Please use tf.compat.v1.Session instead.\n",
            "\n",
            "WARNING:tensorflow:From /usr/local/lib/python3.6/dist-packages/keras/backend/tensorflow_backend.py:207: The name tf.global_variables is deprecated. Please use tf.compat.v1.global_variables instead.\n",
            "\n",
            "WARNING:tensorflow:From /usr/local/lib/python3.6/dist-packages/keras/backend/tensorflow_backend.py:216: The name tf.is_variable_initialized is deprecated. Please use tf.compat.v1.is_variable_initialized instead.\n",
            "\n",
            "WARNING:tensorflow:From /usr/local/lib/python3.6/dist-packages/keras/backend/tensorflow_backend.py:223: The name tf.variables_initializer is deprecated. Please use tf.compat.v1.variables_initializer instead.\n",
            "\n"
          ],
          "name": "stdout"
        }
      ]
    },
    {
      "cell_type": "markdown",
      "metadata": {
        "id": "KJToVWuFc-gD",
        "colab_type": "text"
      },
      "source": [
        "Training and Evaluating the Model"
      ]
    },
    {
      "cell_type": "code",
      "metadata": {
        "id": "y2RTzmbqdBQz",
        "colab_type": "code",
        "colab": {
          "base_uri": "https://localhost:8080/",
          "height": 156
        },
        "outputId": "c8906659-6360-48c2-b3a8-c63d04826cd9"
      },
      "source": [
        "mlp_model = model.fit(x_train, y_train_one_hot,\n",
        "                      batch_size = 32,\n",
        "                      epochs = 3,\n",
        "                      verbose = 1,\n",
        "                      validation_split=0.2)"
      ],
      "execution_count": 16,
      "outputs": [
        {
          "output_type": "stream",
          "text": [
            "Train on 48000 samples, validate on 12000 samples\n",
            "Epoch 1/3\n",
            "48000/48000 [==============================] - 8s 159us/step - loss: 0.3471 - acc: 0.9011 - val_loss: 0.3073 - val_acc: 0.9123\n",
            "Epoch 2/3\n",
            "48000/48000 [==============================] - 8s 158us/step - loss: 0.3136 - acc: 0.9104 - val_loss: 0.2791 - val_acc: 0.9206\n",
            "Epoch 3/3\n",
            "48000/48000 [==============================] - 8s 166us/step - loss: 0.2829 - acc: 0.9195 - val_loss: 0.2513 - val_acc: 0.9291\n"
          ],
          "name": "stdout"
        }
      ]
    },
    {
      "cell_type": "code",
      "metadata": {
        "id": "Sy6LuChsecPr",
        "colab_type": "code",
        "colab": {}
      },
      "source": [
        ""
      ],
      "execution_count": 0,
      "outputs": []
    }
  ]
}