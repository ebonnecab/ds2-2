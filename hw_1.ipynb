{
 "cells": [
  {
   "cell_type": "code",
   "execution_count": 16,
   "metadata": {},
   "outputs": [],
   "source": [
    "# import warnings\n",
    "import warnings\n",
    "warnings.filterwarnings('ignore')\n",
    "import keras\n",
    "import matplotlib.pyplot as plt #This package is for plotting\n",
    "%matplotlib inline  \n",
    "import numpy as np\n",
    "from sklearn import datasets\n",
    "from keras.models import Sequential\n",
    "from keras.layers import Dense, Input\n",
    "from keras.wrappers.scikit_learn import KerasRegressor\n",
    "from sklearn.model_selection import cross_val_score\n",
    "from sklearn.model_selection import KFold\n",
    "from sklearn.preprocessing import MinMaxScaler\n",
    "from sklearn.pipeline import Pipeline\n",
    "from sklearn.model_selection import train_test_split"
   ]
  },
  {
   "cell_type": "markdown",
   "metadata": {},
   "source": [
    "## Data Preparation"
   ]
  },
  {
   "cell_type": "markdown",
   "metadata": {},
   "source": [
    "### Loading data and splitting into training and test data"
   ]
  },
  {
   "cell_type": "code",
   "execution_count": 7,
   "metadata": {},
   "outputs": [],
   "source": [
    "bos_df = datasets.load_boston()"
   ]
  },
  {
   "cell_type": "code",
   "execution_count": 18,
   "metadata": {},
   "outputs": [
    {
     "name": "stdout",
     "output_type": "stream",
     "text": [
      "(354, 13)\n",
      "(152, 13)\n"
     ]
    }
   ],
   "source": [
    "X, y = bos_df.data, bos_df.target\n",
    "\n",
    "X_train, X_test, y_train, y_test = train_test_split(X, y, test_size=0.3, random_state=0)\n",
    "\n",
    "print(X_train.shape)\n",
    "print(X_test.shape)"
   ]
  },
  {
   "cell_type": "markdown",
   "metadata": {},
   "source": [
    "### Scaling data before input"
   ]
  },
  {
   "cell_type": "code",
   "execution_count": 20,
   "metadata": {
    "collapsed": true,
    "jupyter": {
     "outputs_hidden": true
    }
   },
   "outputs": [
    {
     "data": {
      "text/plain": [
       "array([[0.39111111],\n",
       "       [1.        ],\n",
       "       [0.4       ],\n",
       "       [0.07333333],\n",
       "       [0.36      ],\n",
       "       [0.33111111],\n",
       "       [0.34666667],\n",
       "       [0.30444444],\n",
       "       [0.24666667],\n",
       "       [0.30222222],\n",
       "       [0.08444444],\n",
       "       [0.27111111],\n",
       "       [0.22      ],\n",
       "       [0.12222222],\n",
       "       [1.        ],\n",
       "       [0.53333333],\n",
       "       [0.4       ],\n",
       "       [0.62888889],\n",
       "       [0.54222222],\n",
       "       [0.35555556],\n",
       "       [0.41777778],\n",
       "       [0.31333333],\n",
       "       [0.34222222],\n",
       "       [0.53555556],\n",
       "       [0.31777778],\n",
       "       [0.40222222],\n",
       "       [0.32444444],\n",
       "       [0.32      ],\n",
       "       [0.74888889],\n",
       "       [0.30444444],\n",
       "       [0.21333333],\n",
       "       [0.33333333],\n",
       "       [0.34444444],\n",
       "       [0.33555556],\n",
       "       [0.41333333],\n",
       "       [0.26222222],\n",
       "       [0.01333333],\n",
       "       [1.        ],\n",
       "       [0.21111111],\n",
       "       [0.18444444],\n",
       "       [0.42      ],\n",
       "       [0.33333333],\n",
       "       [0.32888889],\n",
       "       [0.19555556],\n",
       "       [0.25555556],\n",
       "       [0.36888889],\n",
       "       [0.34      ],\n",
       "       [0.26666667],\n",
       "       [0.15111111],\n",
       "       [0.5       ],\n",
       "       [0.23555556],\n",
       "       [0.40222222],\n",
       "       [0.42888889],\n",
       "       [0.84      ],\n",
       "       [0.23555556],\n",
       "       [0.37111111],\n",
       "       [0.26888889],\n",
       "       [0.27111111],\n",
       "       [0.22222222],\n",
       "       [0.37111111],\n",
       "       [0.30222222],\n",
       "       [0.35555556],\n",
       "       [0.62444444],\n",
       "       [0.58888889],\n",
       "       [0.33555556],\n",
       "       [0.55111111],\n",
       "       [0.22666667],\n",
       "       [0.22222222],\n",
       "       [0.5       ],\n",
       "       [0.39111111],\n",
       "       [0.33333333],\n",
       "       [0.36444444],\n",
       "       [0.41111111],\n",
       "       [0.58222222],\n",
       "       [0.41555556],\n",
       "       [0.05333333],\n",
       "       [0.96222222],\n",
       "       [0.43111111],\n",
       "       [0.39111111],\n",
       "       [0.29555556],\n",
       "       [0.40666667],\n",
       "       [0.26888889],\n",
       "       [0.50888889],\n",
       "       [0.88444444],\n",
       "       [1.        ],\n",
       "       [0.4       ],\n",
       "       [0.36444444],\n",
       "       [0.11555556],\n",
       "       [0.40666667],\n",
       "       [0.40444444],\n",
       "       [0.30888889],\n",
       "       [0.18666667],\n",
       "       [0.37555556],\n",
       "       [0.44      ],\n",
       "       [0.15333333],\n",
       "       [0.42888889],\n",
       "       [0.19555556],\n",
       "       [0.43777778],\n",
       "       [0.20222222],\n",
       "       [0.30444444],\n",
       "       [0.51333333],\n",
       "       [0.32888889],\n",
       "       [0.48222222],\n",
       "       [0.37111111],\n",
       "       [0.37777778],\n",
       "       [0.39777778],\n",
       "       [0.12      ],\n",
       "       [0.37555556],\n",
       "       [0.34666667],\n",
       "       [0.47555556],\n",
       "       [0.80666667],\n",
       "       [0.27111111],\n",
       "       [0.49111111],\n",
       "       [0.34222222],\n",
       "       [0.25555556],\n",
       "       [0.43111111],\n",
       "       [0.07555556],\n",
       "       [0.4       ],\n",
       "       [0.10444444],\n",
       "       [1.        ],\n",
       "       [0.56666667],\n",
       "       [0.16222222],\n",
       "       [0.32      ],\n",
       "       [0.36      ],\n",
       "       [0.34      ],\n",
       "       [0.30666667],\n",
       "       [0.63111111],\n",
       "       [0.3       ],\n",
       "       [0.32444444],\n",
       "       [0.62666667],\n",
       "       [0.18      ],\n",
       "       [0.05555556],\n",
       "       [0.19111111],\n",
       "       [0.27555556],\n",
       "       [0.07555556],\n",
       "       [0.67555556],\n",
       "       [0.42222222],\n",
       "       [0.18666667],\n",
       "       [0.47111111],\n",
       "       [0.04888889],\n",
       "       [0.18      ],\n",
       "       [0.43333333],\n",
       "       [0.71555556],\n",
       "       [0.44444444],\n",
       "       [0.42444444],\n",
       "       [0.25777778],\n",
       "       [0.62      ],\n",
       "       [0.69333333],\n",
       "       [0.13333333],\n",
       "       [0.04888889],\n",
       "       [0.39555556],\n",
       "       [0.52666667]])"
      ]
     },
     "execution_count": 20,
     "metadata": {},
     "output_type": "execute_result"
    }
   ],
   "source": [
    "sc_x = MinMaxScaler()\n",
    "sc_x.fit(X_train)\n",
    "sc_x.transform(X_test)\n",
    "\n",
    "sc_y = MinMaxScaler()\n",
    "y_train = y_train.reshape(-1,1)\n",
    "y_test = y_test.reshape(-1,1)\n",
    "sc_y.fit(y_train)\n",
    "sc_y.transform(y_test)"
   ]
  },
  {
   "cell_type": "markdown",
   "metadata": {},
   "source": [
    "## Building Model"
   ]
  },
  {
   "cell_type": "code",
   "execution_count": 25,
   "metadata": {},
   "outputs": [],
   "source": [
    "def build_model():\n",
    "    model = Sequential()\n",
    "    model.add(Dense(13, input_dim = 13, kernel_initializer='normal'))\n",
    "    model.add(Activation('relu'))\n",
    "    model.add(Dense(1, activation='linear'))\n",
    "    model.compile(loss='mean_squared_error', metrics='mse', optimizer='adam')\n",
    "    return model"
   ]
  },
  {
   "cell_type": "code",
   "execution_count": null,
   "metadata": {},
   "outputs": [],
   "source": []
  }
 ],
 "metadata": {
  "kernelspec": {
   "display_name": "Python 3",
   "language": "python",
   "name": "python3"
  },
  "language_info": {
   "codemirror_mode": {
    "name": "ipython",
    "version": 3
   },
   "file_extension": ".py",
   "mimetype": "text/x-python",
   "name": "python",
   "nbconvert_exporter": "python",
   "pygments_lexer": "ipython3",
   "version": "3.7.3"
  }
 },
 "nbformat": 4,
 "nbformat_minor": 4
}
